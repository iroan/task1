{
 "cells": [
  {
   "cell_type": "markdown",
   "metadata": {},
   "source": [
    "# 任务\n",
    "1. 输入:`活动编号`,`时间`\n",
    "可能的参数,开放类型为:\n",
    "    1. 开服\n",
    "    1. 建角时间\n",
    "    1. 固定轮换\n",
    "\n",
    "1. 处理\n",
    "实现读取一个xls文件,分析调用参数,返回是否已经开服(开启服务)\n",
    "1. 输出,是否已经开服\n",
    "1. 提交形式,http接口"
   ]
  },
  {
   "cell_type": "markdown",
   "metadata": {},
   "source": [
    "# 实现\n",
    "1. 实现函数功能\n",
    "1. 开启http服务,提供访问接口\n"
   ]
  },
  {
   "cell_type": "markdown",
   "metadata": {},
   "source": [
    "\n",
    "# 问题分析\n",
    "1. 处理的字段信息:`['活动编号', '系统编号', '名字', '顺序', '开启时间', '关闭时间', '开放类型', '持续时间', '活动图标', '开服多少天后开启', '开服多少天后开启', '轮数', '间隔']\n",
    "`,`['id', 'systemid', 'name', 'seq', 'begin', 'end', 'open_type', 'continued_time', 'icon', 'days_later', 'days_later2', 'int', 'int']\n",
    "`\n",
    "1. 只处理`新服`sheet`的内容\n",
    "1. 根据输入参数`id`获取改行的数据\n",
    "1. 处理该行数据,需要处理的内容\n",
    "    1. 判断`开放类型`,(7种类型中对号入座)\n",
    "    1. 如果是`1,开服`,判断输入参数大于`开启时间`之间\n",
    "    1. 如果是`2,固定开服`,判断输入参数是否在`开启时间`,`关闭时间`之间"
   ]
  },
  {
   "cell_type": "markdown",
   "metadata": {},
   "source": [
    "# 开放类型\n",
    "1. 开服,open_date = 2018-08-14 00:00:00 continue_days 持续时间 \n",
    "2. 固定开放,一直开着 \n",
    "3. 按时间开放,配置表里的 start_date, end_date 按自然时间 对比\n",
    "4. 建角时间,玩家创建角色时间 玩家对象 user.create_time  = 2018-08-14 00:00:00\n",
    "5. 固定轮换,以开服时间判断 通过 rounds，space，continue_days  轮数，每轮之间的间隔，每轮的持续时间 \n",
    "6. 合服,meger_date = 2018-08-14 00:00:00 continue_days 持续时间 \n",
    "\n",
    "以上 1-5种类型 都有 days_late 开服多少天以后 才可以开启这个活动\n",
    "类型 6 是days_late 合服多少天以后 才可以开启这个活动"
   ]
  },
  {
   "cell_type": "markdown",
   "metadata": {},
   "source": [
    "# 日期(时间)的比较 "
   ]
  },
  {
   "cell_type": "code",
   "execution_count": 2,
   "metadata": {},
   "outputs": [],
   "source": [
    "import datetime"
   ]
  },
  {
   "cell_type": "code",
   "execution_count": 9,
   "metadata": {},
   "outputs": [],
   "source": [
    "date_str = '20180707000000'\n",
    "date_ = datetime.datetime.strptime(date_str,'%Y%m%d%H%M%S').date()"
   ]
  },
  {
   "cell_type": "code",
   "execution_count": 10,
   "metadata": {},
   "outputs": [],
   "source": [
    "date_str1 = '07000000'\n",
    "date_1 = datetime.datetime.strptime(date_str1,'%d%H%M%S').date()"
   ]
  },
  {
   "cell_type": "code",
   "execution_count": 11,
   "metadata": {},
   "outputs": [
    {
     "data": {
      "text/plain": [
       "datetime.date(2018, 7, 7)"
      ]
     },
     "execution_count": 11,
     "metadata": {},
     "output_type": "execute_result"
    }
   ],
   "source": [
    "date_"
   ]
  },
  {
   "cell_type": "markdown",
   "metadata": {},
   "source": [
    "## 使用strptime不指定年时,默认指定1900年"
   ]
  },
  {
   "cell_type": "code",
   "execution_count": 12,
   "metadata": {},
   "outputs": [
    {
     "data": {
      "text/plain": [
       "datetime.date(1900, 1, 7)"
      ]
     },
     "execution_count": 12,
     "metadata": {},
     "output_type": "execute_result"
    }
   ],
   "source": [
    "date_1"
   ]
  },
  {
   "cell_type": "markdown",
   "metadata": {},
   "source": [
    "# 运算"
   ]
  },
  {
   "cell_type": "markdown",
   "metadata": {},
   "source": [
    "## 加(year,month,day,hour,minute,second) "
   ]
  },
  {
   "cell_type": "code",
   "execution_count": 13,
   "metadata": {},
   "outputs": [],
   "source": [
    "from datetime import date\n",
    "from datetime import datetime\n",
    "from datetime import timedelta"
   ]
  },
  {
   "cell_type": "code",
   "execution_count": 16,
   "metadata": {},
   "outputs": [],
   "source": [
    "date_str = '20180707000000'\n",
    "date_ = datetime.strptime(date_str,'%Y%m%d%H%M%S').date()"
   ]
  },
  {
   "cell_type": "code",
   "execution_count": 17,
   "metadata": {},
   "outputs": [],
   "source": [
    "date_1 =timedelta(days=5)"
   ]
  },
  {
   "cell_type": "code",
   "execution_count": 18,
   "metadata": {},
   "outputs": [
    {
     "data": {
      "text/plain": [
       "datetime.date(2018, 7, 7)"
      ]
     },
     "execution_count": 18,
     "metadata": {},
     "output_type": "execute_result"
    }
   ],
   "source": [
    "date_"
   ]
  },
  {
   "cell_type": "code",
   "execution_count": 19,
   "metadata": {},
   "outputs": [
    {
     "data": {
      "text/plain": [
       "datetime.date(2018, 7, 12)"
      ]
     },
     "execution_count": 19,
     "metadata": {},
     "output_type": "execute_result"
    }
   ],
   "source": [
    "date_ + date_1"
   ]
  },
  {
   "cell_type": "code",
   "execution_count": 21,
   "metadata": {},
   "outputs": [],
   "source": [
    "date_2 =timedelta()"
   ]
  },
  {
   "cell_type": "code",
   "execution_count": 22,
   "metadata": {},
   "outputs": [
    {
     "data": {
      "text/plain": [
       "datetime.date(2018, 7, 7)"
      ]
     },
     "execution_count": 22,
     "metadata": {},
     "output_type": "execute_result"
    }
   ],
   "source": [
    "date_ + date_2"
   ]
  }
 ],
 "metadata": {
  "kernelspec": {
   "display_name": "Python 3",
   "language": "python",
   "name": "python3"
  },
  "language_info": {
   "codemirror_mode": {
    "name": "ipython",
    "version": 3
   },
   "file_extension": ".py",
   "mimetype": "text/x-python",
   "name": "python",
   "nbconvert_exporter": "python",
   "pygments_lexer": "ipython3",
   "version": "3.6.5"
  }
 },
 "nbformat": 4,
 "nbformat_minor": 2
}
