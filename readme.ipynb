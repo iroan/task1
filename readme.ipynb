{
 "cells": [
  {
   "cell_type": "markdown",
   "metadata": {},
   "source": [
    "# 任务\n",
    "1. 输入:`活动编号`,`时间`\n",
    "可能的参数,开放类型为:\n",
    "    1. 开服\n",
    "    1. 建角时间\n",
    "    1. 固定轮换\n",
    "\n",
    "1. 处理\n",
    "实现读取一个xls文件,分析调用参数,返回是否已经开服(开启服务)\n",
    "1. 输出,是否已经开服\n",
    "1. 提交形式,http接口"
   ]
  },
  {
   "cell_type": "markdown",
   "metadata": {},
   "source": [
    "# 实现\n",
    "1. 实现函数功能\n",
    "1. 开启http服务,提供访问接口\n"
   ]
  },
  {
   "cell_type": "markdown",
   "metadata": {},
   "source": [
    "\n",
    "# 问题分析\n",
    "1. 处理的字段信息:`['活动编号', '系统编号', '名字', '顺序', '开启时间', '关闭时间', '开放类型', '持续时间', '活动图标', '开服多少天后开启', '开服多少天后开启', '轮数', '间隔']\n",
    "`,`['id', 'systemid', 'name', 'seq', 'begin', 'end', 'open_type', 'continued_time', 'icon', 'days_later', 'days_later2', 'int', 'int']\n",
    "`\n",
    "1. 只处理`新服`sheet`的内容\n",
    "1. 根据输入参数`id`获取改行的数据\n",
    "1. 处理该行数据,需要处理的内容\n",
    "    1. 判断`开放类型`,(7种类型中对号入座)\n",
    "    1. 如果是`1,开服`,判断输入参数大于`开启时间`之间\n",
    "    1. 如果是`2,固定开服`,判断输入参数是否在`开启时间`,`关闭时间`之间"
   ]
  },
  {
   "cell_type": "markdown",
   "metadata": {},
   "source": [
    "# 开放类型\n",
    "open_type | 开放类型 | 定义\n",
    "---|---|---\n",
    "|1| 开服||\n",
    "|2| 固定开放|一直开着\n",
    "|3|按时间开放||\n",
    "|4| 建角时间||\n",
    "|5|固定轮换||\n",
    "|6|合服||"
   ]
  }
 ],
 "metadata": {
  "kernelspec": {
   "display_name": "Python 3",
   "language": "python",
   "name": "python3"
  },
  "language_info": {
   "codemirror_mode": {
    "name": "ipython",
    "version": 3
   },
   "file_extension": ".py",
   "mimetype": "text/x-python",
   "name": "python",
   "nbconvert_exporter": "python",
   "pygments_lexer": "ipython3",
   "version": "3.6.5"
  }
 },
 "nbformat": 4,
 "nbformat_minor": 2
}
